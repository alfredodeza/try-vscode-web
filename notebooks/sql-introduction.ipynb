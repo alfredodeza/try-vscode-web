{
 "cells": [
  {
   "cell_type": "markdown",
   "metadata": {},
   "source": [
    "## Working with SQL in Python \n",
    "Use an in-memory Sqlite3 database to store and retrieve information with SQL queries"
   ]
  },
  {
   "cell_type": "code",
   "execution_count": null,
   "metadata": {},
   "outputs": [],
   "source": [
    "import sqlite3\n",
    "connection = sqlite3.connect(':memory:')\n",
    "cursor = connection.cursor()\n",
    "cursor.execute('create table wood (id integer primary key, width INTEGER, thick INTEGER, length INTEGER, price REAL)')\n",
    "connection.commit()\n"
   ]
  },
  {
   "cell_type": "code",
   "execution_count": null,
   "metadata": {},
   "outputs": [],
   "source": [
    "# Common wood widths\n",
    "widths = [1, 2, 4, 6, 8, 10, 12]\n",
    "\n",
    "# Common wood thickness\n",
    "thickness = [1, 2, 4, 6]\n",
    "\n",
    "# Common length in feet\n",
    "lengths = [4, 6, 8, 10, 12]\n",
    "\n",
    "combinations = set()\n",
    "\n",
    "for width in widths:\n",
    "    for thick in thickness:\n",
    "        for length in lengths:\n",
    "            price = (width * thick) * (length/12)\n",
    "            if price < 1:\n",
    "                price = price + 1\n",
    "            if width < thick:\n",
    "                combinations.add((width, thick, length, price))\n",
    "            else:\n",
    "                combinations.add((thick, width, length, price))\n",
    "\n"
   ]
  },
  {
   "cell_type": "code",
   "execution_count": null,
   "metadata": {},
   "outputs": [],
   "source": [
    "query = 'INSERT INTO wood(width, thick, length, price) VALUES(?, ?, ?, ?)'\n",
    "for width, thick, length, price in combinations:\n",
    "    cursor.execute(query, (width, thick, length, price))\n",
    "    connection.commit()"
   ]
  },
  {
   "cell_type": "code",
   "execution_count": null,
   "metadata": {},
   "outputs": [
    {
     "name": "stdout",
     "output_type": "stream",
     "text": [
      "4x12 6ft USD$ 24.0\n",
      "4x12 10ft USD$ 40.0\n",
      "6x12 6ft USD$ 36.0\n",
      "4x12 12ft USD$ 48.0\n",
      "6x12 4ft USD$ 24.0\n",
      "6x10 12ft USD$ 60.0\n",
      "4x8 6ft USD$ 16.0\n",
      "4x8 12ft USD$ 32.0\n",
      "6x12 8ft USD$ 48.0\n",
      "6x8 4ft USD$ 16.0\n",
      "6x8 8ft USD$ 32.0\n",
      "2x10 12ft USD$ 20.0\n",
      "6x10 6ft USD$ 30.0\n",
      "4x10 8ft USD$ 26.666666666666664\n",
      "6x12 10ft USD$ 60.0\n",
      "6x8 6ft USD$ 24.0\n",
      "6x8 10ft USD$ 40.0\n",
      "4x4 12ft USD$ 16.0\n",
      "6x6 6ft USD$ 18.0\n",
      "4x10 6ft USD$ 20.0\n",
      "6x8 12ft USD$ 48.0\n",
      "6x12 12ft USD$ 72.0\n",
      "2x10 10ft USD$ 16.666666666666668\n",
      "6x6 10ft USD$ 30.0\n",
      "4x6 12ft USD$ 24.0\n",
      "6x10 10ft USD$ 50.0\n",
      "4x6 8ft USD$ 16.0\n",
      "4x10 12ft USD$ 40.0\n",
      "4x6 10ft USD$ 20.0\n",
      "4x8 8ft USD$ 21.333333333333332\n",
      "6x10 4ft USD$ 20.0\n",
      "2x12 12ft USD$ 24.0\n",
      "2x12 8ft USD$ 16.0\n",
      "4x8 10ft USD$ 26.666666666666668\n",
      "2x8 12ft USD$ 16.0\n",
      "2x12 10ft USD$ 20.0\n",
      "4x10 10ft USD$ 33.333333333333336\n",
      "6x6 12ft USD$ 36.0\n",
      "6x10 8ft USD$ 40.0\n",
      "6x6 8ft USD$ 24.0\n",
      "4x12 4ft USD$ 16.0\n",
      "4x12 8ft USD$ 32.0\n"
     ]
    }
   ],
   "source": [
    "query = 'SELECT * FROM wood WHERE price>14'\n",
    "cursor.execute(query)\n",
    "rows = cursor.fetchall()\n",
    "\n",
    "for _, width, thick, length, price in rows:\n",
    "    print(f\"{width}x{thick} {length}ft USD$ {price}\")"
   ]
  }
 ],
 "metadata": {
  "language_info": {
   "name": "python"
  },
  "orig_nbformat": 4
 },
 "nbformat": 4,
 "nbformat_minor": 2
}
