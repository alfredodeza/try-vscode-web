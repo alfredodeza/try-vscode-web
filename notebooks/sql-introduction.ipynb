{
 "cells": [
  {
   "cell_type": "markdown",
   "metadata": {},
   "source": [
    "## Working with SQL in Python \n",
    "Use an in-memory Sqlite3 database to store and retrieve information with SQL queries"
   ]
  },
  {
   "cell_type": "code",
   "execution_count": null,
   "metadata": {},
   "outputs": [],
   "source": [
    "import sqlite3\n",
    "connection = sqlite3.connect(':memory:')\n",
    "cursor = connection.cursor()\n",
    "cursor.execute('create table wood (id integer primary key, width INTEGER, thick INTEGER, length INTEGER, price REAL)')\n",
    "connection.commit()\n"
   ]
  },
  {
   "cell_type": "code",
   "execution_count": null,
   "metadata": {},
   "outputs": [],
   "source": [
    "# Common wood widths\n",
    "widths = [1, 2, 4, 6, 8, 10, 12]\n",
    "\n",
    "# Common wood thickness\n",
    "thickness = [1, 2, 4, 6]\n",
    "\n",
    "# Common length in feet\n",
    "lengths = [4, 6, 8, 10, 12]\n",
    "\n",
    "combinations = set()\n",
    "\n",
    "for width in widths:\n",
    "    for thick in thickness:\n",
    "        for length in lengths:\n",
    "            price = (width * thick) * (length/12)\n",
    "            if price < 1:\n",
    "                price = price + 1\n",
    "            if width < thick:\n",
    "                combinations.add((width, thick, length, price))\n",
    "            else:\n",
    "                combinations.add((thick, width, length, price))\n",
    "\n"
   ]
  },
  {
   "cell_type": "code",
   "execution_count": null,
   "metadata": {},
   "outputs": [],
   "source": [
    "query = 'INSERT INTO wood(width, thick, length, price) VALUES(?, ?, ?, ?)'\n",
    "for width, thick, length, price in combinations:\n",
    "    cursor.execute(query, (width, thick, length, price))\n",
    "    connection.commit()"
   ]
  },
  {
   "cell_type": "code",
   "execution_count": null,
   "metadata": {},
   "outputs": [
    {
     "name": "stdout",
     "output_type": "stream",
     "text": [
      "(1, 4, 12, 6, 24.0)\n",
      "(2, 4, 12, 10, 40.0)\n",
      "(6, 1, 12, 12, 12.0)\n",
      "(8, 6, 12, 6, 36.0)\n",
      "(10, 2, 8, 10, 13.333333333333334)\n",
      "(11, 4, 12, 12, 48.0)\n",
      "(13, 6, 12, 4, 24.0)\n",
      "(14, 6, 10, 12, 60.0)\n",
      "(18, 4, 8, 6, 16.0)\n",
      "(19, 4, 8, 12, 32.0)\n",
      "(26, 6, 12, 8, 48.0)\n",
      "(29, 6, 8, 4, 16.0)\n",
      "(30, 6, 8, 8, 32.0)\n",
      "(32, 2, 10, 12, 20.0)\n",
      "(35, 6, 10, 6, 30.0)\n",
      "(37, 4, 10, 8, 26.666666666666664)\n",
      "(38, 6, 12, 10, 60.0)\n",
      "(41, 6, 8, 6, 24.0)\n",
      "(42, 6, 8, 10, 40.0)\n",
      "(43, 4, 4, 12, 16.0)\n",
      "(44, 6, 6, 6, 18.0)\n",
      "(47, 4, 10, 6, 20.0)\n",
      "(49, 2, 6, 12, 12.0)\n",
      "(50, 6, 8, 12, 48.0)\n",
      "(53, 6, 12, 12, 72.0)\n",
      "(58, 2, 10, 10, 16.666666666666668)\n",
      "(59, 6, 6, 10, 30.0)\n",
      "(60, 4, 6, 12, 24.0)\n",
      "(62, 6, 10, 10, 50.0)\n",
      "(66, 4, 6, 6, 12.0)\n",
      "(69, 2, 12, 6, 12.0)\n",
      "(71, 4, 6, 8, 16.0)\n",
      "(74, 4, 10, 12, 40.0)\n",
      "(75, 4, 6, 10, 20.0)\n",
      "(76, 4, 8, 8, 21.333333333333332)\n",
      "(77, 4, 4, 10, 13.333333333333334)\n",
      "(82, 2, 8, 8, 10.666666666666666)\n",
      "(83, 6, 10, 4, 20.0)\n",
      "(84, 2, 12, 12, 24.0)\n",
      "(88, 6, 6, 4, 12.0)\n",
      "(89, 2, 10, 8, 13.333333333333332)\n",
      "(90, 2, 12, 8, 16.0)\n",
      "(91, 4, 8, 10, 26.666666666666668)\n",
      "(92, 2, 8, 12, 16.0)\n",
      "(94, 2, 12, 10, 20.0)\n",
      "(96, 4, 10, 10, 33.333333333333336)\n",
      "(97, 6, 6, 12, 36.0)\n",
      "(100, 6, 10, 8, 40.0)\n",
      "(101, 6, 6, 8, 24.0)\n",
      "(102, 4, 10, 4, 13.333333333333332)\n",
      "(103, 4, 12, 4, 16.0)\n",
      "(106, 4, 12, 8, 32.0)\n",
      "(108, 4, 8, 4, 10.666666666666666)\n",
      "(110, 4, 4, 8, 10.666666666666666)\n"
     ]
    }
   ],
   "source": [
    "query = 'SELECT * FROM wood WHERE price>10'\n",
    "cursor.execute(query)\n",
    "rows = cursor.fetchall()\n",
    "\n",
    "for row in rows:\n",
    "    print(row)"
   ]
  }
 ],
 "metadata": {
  "language_info": {
   "name": "python"
  },
  "orig_nbformat": 4
 },
 "nbformat": 4,
 "nbformat_minor": 2
}
