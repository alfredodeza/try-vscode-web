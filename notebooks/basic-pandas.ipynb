{
 "cells": [
  {
   "cell_type": "markdown",
   "metadata": {},
   "source": [
    "# Basic Pandas commands\n",
    "Get introduced to Pandas to query a CSV file that has wine ratings and descriptions. The data is flawed and has several parts that need cleanup."
   ]
  },
  {
   "cell_type": "code",
   "execution_count": null,
   "metadata": {},
   "outputs": [],
   "source": [
    "# Setup for this notebook\n",
    "import pandas as pd\n",
    "import pyodide\n",
    "csv_url = \"https://raw.githubusercontent.com/paiml/wine-ratings/main/wine-ratings.csv\"\n",
    "csv_data = pyodide.open_url(csv_url)\n"
   ]
  },
  {
   "cell_type": "code",
   "execution_count": 2,
   "metadata": {},
   "outputs": [
    {
     "name": "stderr",
     "output_type": "stream",
     "text": [
      "/lib/python3.9/site-packages/pandas/compat/__init__.py:117: UserWarning: Could not import the lzma module. Your installed Python is incomplete. Attempting to use lzma compression will result in a RuntimeError.\n",
      "  warnings.warn(msg)\n"
     ]
    },
    {
     "data": {
      "text/html": [
       "<div>\n",
       "<style scoped>\n",
       "    .dataframe tbody tr th:only-of-type {\n",
       "        vertical-align: middle;\n",
       "    }\n",
       "\n",
       "    .dataframe tbody tr th {\n",
       "        vertical-align: top;\n",
       "    }\n",
       "\n",
       "    .dataframe thead th {\n",
       "        text-align: right;\n",
       "    }\n",
       "</style>\n",
       "<table border=\"1\" class=\"dataframe\">\n",
       "  <thead>\n",
       "    <tr style=\"text-align: right;\">\n",
       "      <th></th>\n",
       "      <th>name</th>\n",
       "      <th>grape</th>\n",
       "      <th>region</th>\n",
       "      <th>variety</th>\n",
       "      <th>rating</th>\n",
       "      <th>notes</th>\n",
       "    </tr>\n",
       "  </thead>\n",
       "  <tbody>\n",
       "    <tr>\n",
       "      <th>0</th>\n",
       "      <td>1000 Stories Bourbon Barrel Aged Batch Blue Ca...</td>\n",
       "      <td>NaN</td>\n",
       "      <td>Mendocino, California</td>\n",
       "      <td>Red Wine</td>\n",
       "      <td>91.0</td>\n",
       "      <td>This is a very special, limited release of 100...</td>\n",
       "    </tr>\n",
       "    <tr>\n",
       "      <th>1</th>\n",
       "      <td>1000 Stories Bourbon Barrel Aged Gold Rush Red...</td>\n",
       "      <td>NaN</td>\n",
       "      <td>California</td>\n",
       "      <td>Red Wine</td>\n",
       "      <td>89.0</td>\n",
       "      <td>The California Gold Rush was a period of coura...</td>\n",
       "    </tr>\n",
       "    <tr>\n",
       "      <th>2</th>\n",
       "      <td>1000 Stories Bourbon Barrel Aged Gold Rush Red...</td>\n",
       "      <td>NaN</td>\n",
       "      <td>California</td>\n",
       "      <td>Red Wine</td>\n",
       "      <td>90.0</td>\n",
       "      <td>The California Gold Rush was a period of coura...</td>\n",
       "    </tr>\n",
       "    <tr>\n",
       "      <th>3</th>\n",
       "      <td>1000 Stories Bourbon Barrel Aged Zinfandel 2013</td>\n",
       "      <td>NaN</td>\n",
       "      <td>North Coast, California</td>\n",
       "      <td>Red Wine</td>\n",
       "      <td>91.0</td>\n",
       "      <td>The wine has a deep, rich purple color. An int...</td>\n",
       "    </tr>\n",
       "    <tr>\n",
       "      <th>4</th>\n",
       "      <td>1000 Stories Bourbon Barrel Aged Zinfandel 2014</td>\n",
       "      <td>NaN</td>\n",
       "      <td>California</td>\n",
       "      <td>Red Wine</td>\n",
       "      <td>90.0</td>\n",
       "      <td>Batch #004 is the first release of the 2014 vi...</td>\n",
       "    </tr>\n",
       "  </tbody>\n",
       "</table>\n",
       "</div>"
      ],
      "text/plain": [
       "                                                name  grape  \\\n",
       "0  1000 Stories Bourbon Barrel Aged Batch Blue Ca...    NaN   \n",
       "1  1000 Stories Bourbon Barrel Aged Gold Rush Red...    NaN   \n",
       "2  1000 Stories Bourbon Barrel Aged Gold Rush Red...    NaN   \n",
       "3    1000 Stories Bourbon Barrel Aged Zinfandel 2013    NaN   \n",
       "4    1000 Stories Bourbon Barrel Aged Zinfandel 2014    NaN   \n",
       "\n",
       "                    region   variety  rating  \\\n",
       "0    Mendocino, California  Red Wine    91.0   \n",
       "1               California  Red Wine    89.0   \n",
       "2               California  Red Wine    90.0   \n",
       "3  North Coast, California  Red Wine    91.0   \n",
       "4               California  Red Wine    90.0   \n",
       "\n",
       "                                               notes  \n",
       "0  This is a very special, limited release of 100...  \n",
       "1  The California Gold Rush was a period of coura...  \n",
       "2  The California Gold Rush was a period of coura...  \n",
       "3  The wine has a deep, rich purple color. An int...  \n",
       "4  Batch #004 is the first release of the 2014 vi...  "
      ]
     },
     "execution_count": 2,
     "metadata": {},
     "output_type": "execute_result"
    }
   ],
   "source": [
    "import pandas as pd\n",
    "\n",
    "df = pd.read_csv(csv_data, index_col=0)\n",
    "df.head()"
   ]
  }
 ],
 "metadata": {
  "language_info": {
   "name": "python"
  },
  "orig_nbformat": 4
 },
 "nbformat": 4,
 "nbformat_minor": 2
}
