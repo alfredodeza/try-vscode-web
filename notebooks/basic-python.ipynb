{
 "cells": [
  {
   "cell_type": "markdown",
   "metadata": {},
   "source": [
    "# Adding data to Python Dictionaries\n",
    "Adding data to a dictionary can also be done in different ways. You've already seen how to pre-seed a dictionary but not how to add to it."
   ]
  },
  {
   "cell_type": "code",
   "execution_count": null,
   "metadata": {},
   "outputs": [],
   "source": [
    "contact_information = {}"
   ]
  },
  {
   "cell_type": "code",
   "execution_count": null,
   "metadata": {},
   "outputs": [],
   "source": [
    "# Adding a new key and value\n",
    "contact_information[\"first\"] = \"Alfredo\"\n",
    "contact_information"
   ]
  },
  {
   "cell_type": "code",
   "execution_count": null,
   "metadata": {},
   "outputs": [],
   "source": [
    "# Adding a value to an existing key (or replacing it)\n",
    "contact_information[\"first\"] = \"John\"\n",
    "contact_information"
   ]
  }
 ],
 "metadata": {
  "language_info": {
   "name": "python"
  },
  "orig_nbformat": 4
 },
 "nbformat": 4,
 "nbformat_minor": 2
}
